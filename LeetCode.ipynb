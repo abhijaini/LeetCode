{
 "cells": [
  {
   "cell_type": "markdown",
   "metadata": {},
   "source": [
    "REversing a 32-bit integer"
   ]
  },
  {
   "cell_type": "code",
   "execution_count": 41,
   "metadata": {},
   "outputs": [],
   "source": [
    "def reverse(n):\n",
    "    if n < 0:\n",
    "        y = -1*int(str(-1*n)[::-1])\n",
    "    else:\n",
    "        y = int(str(n)[::-1])\n",
    "    return 0 if y  < -(2**31) or y > ((2**31)- 1) else y\n",
    "    \n",
    "    "
   ]
  },
  {
   "cell_type": "code",
   "execution_count": 42,
   "metadata": {},
   "outputs": [
    {
     "name": "stdout",
     "output_type": "stream",
     "text": [
      "-321\n"
     ]
    }
   ],
   "source": [
    "print(reverse(-123))"
   ]
  },
  {
   "cell_type": "markdown",
   "metadata": {},
   "source": [
    "Check if a number is palindrome"
   ]
  },
  {
   "cell_type": "code",
   "execution_count": 58,
   "metadata": {},
   "outputs": [],
   "source": [
    "def isPalindrome(n):\n",
    "    N = str(n)\n",
    "    l = len(str(n))    \n",
    "    for i in range(l//2):\n",
    "        if N[i] != N[-(i+1)]:\n",
    "             return False\n",
    "    return True\n",
    "\n",
    "    \n",
    "   \n",
    "    "
   ]
  },
  {
   "cell_type": "code",
   "execution_count": 64,
   "metadata": {},
   "outputs": [
    {
     "name": "stdout",
     "output_type": "stream",
     "text": [
      "True\n"
     ]
    }
   ],
   "source": [
    "print(isPalindrome(121))"
   ]
  },
  {
   "cell_type": "code",
   "execution_count": null,
   "metadata": {},
   "outputs": [],
   "source": [
    "#Convert Romans to numeric"
   ]
  },
  {
   "cell_type": "code",
   "execution_count": 84,
   "metadata": {},
   "outputs": [],
   "source": [
    "def Roman(s):\n",
    "    d = {'I':1,'V':5,'X':10,'L':50,'C':100,'D':500,'M':1000}\n",
    "    num = 0\n",
    "    for i in range(len(s)-1):\n",
    "        if s[i] == 'I' and (s[i+1] == 'V' or s[i+1] == 'X'):\n",
    "            num -= d[s[i]]\n",
    "        elif s[i] == 'X' and (s[i+1] == 'L' or s[i+1] == 'C'):\n",
    "            num -= d[s[i]]\n",
    "        elif s[i] == 'C' and (s[i+1] == 'D' or s[i+1] == 'M'):\n",
    "            num -= d[s[i]]\n",
    "        else:\n",
    "            num += d[s[i]]\n",
    "            \n",
    "    num += d[s[-1]]\n",
    "    return num"
   ]
  },
  {
   "cell_type": "code",
   "execution_count": 86,
   "metadata": {},
   "outputs": [
    {
     "name": "stdout",
     "output_type": "stream",
     "text": [
      "1994\n"
     ]
    }
   ],
   "source": [
    "print(Roman('MCMXCIV'))"
   ]
  },
  {
   "cell_type": "markdown",
   "metadata": {},
   "source": [
    "# Check if brackets match"
   ]
  },
  {
   "cell_type": "code",
   "execution_count": 140,
   "metadata": {},
   "outputs": [],
   "source": [
    "def isValid(s):\n",
    "    x= []\n",
    "    for i in range(len(s)):\n",
    "        if s[i] == '(' or s[i] == '{' or s[i] == '[':\n",
    "            x.append(s[i])\n",
    "            continue\n",
    "        if len(x) == 0:\n",
    "            return False\n",
    "        if s[i] == ')':\n",
    "            a = x.pop()\n",
    "            if a == '{' or a == '[':\n",
    "                return False\n",
    "        elif s[i] == '}':\n",
    "            a = x.pop()\n",
    "            if a == '(' or a == '[':\n",
    "                return False\n",
    "        else:\n",
    "            s[i] == ']'\n",
    "            a = x.pop()\n",
    "            \n",
    "            if a == '(' or a == '{':\n",
    "                return False\n",
    "    if len(x):\n",
    "        return False\n",
    "    else:\n",
    "        return True\n",
    "\n",
    "    "
   ]
  },
  {
   "cell_type": "code",
   "execution_count": 144,
   "metadata": {},
   "outputs": [
    {
     "name": "stdout",
     "output_type": "stream",
     "text": [
      "True\n"
     ]
    }
   ],
   "source": [
    "print(isValid('()[]{()}[]'))"
   ]
  },
  {
   "cell_type": "code",
   "execution_count": null,
   "metadata": {},
   "outputs": [],
   "source": [
    "\n"
   ]
  }
 ],
 "metadata": {
  "kernelspec": {
   "display_name": "Python 3",
   "language": "python",
   "name": "python3"
  },
  "language_info": {
   "codemirror_mode": {
    "name": "ipython",
    "version": 3
   },
   "file_extension": ".py",
   "mimetype": "text/x-python",
   "name": "python",
   "nbconvert_exporter": "python",
   "pygments_lexer": "ipython3",
   "version": "3.7.3"
  }
 },
 "nbformat": 4,
 "nbformat_minor": 2
}
